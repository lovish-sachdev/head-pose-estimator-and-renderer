{
  "nbformat": 4,
  "nbformat_minor": 0,
  "metadata": {
    "colab": {
      "provenance": []
    },
    "kernelspec": {
      "name": "python3",
      "display_name": "Python 3"
    },
    "language_info": {
      "name": "python"
    }
  },
  "cells": [
    {
      "cell_type": "code",
      "execution_count": null,
      "metadata": {
        "id": "ZgISMEDklk7i"
      },
      "outputs": [],
      "source": [
        "## om namah shivay"
      ]
    },
    {
      "cell_type": "code",
      "source": [
        "import numpy as np\n",
        "import random\n",
        "import cv2\n",
        "import matplotlib.pyplot as plt\n",
        "import tensorflow as tf\n",
        "from tensorflow.keras.layers import Input,Dense,Flatten\n",
        "from tensorflow.keras.models import Sequential"
      ],
      "metadata": {
        "id": "xcwjap8MmsPL"
      },
      "execution_count": null,
      "outputs": []
    },
    {
      "cell_type": "code",
      "source": [
        "\n",
        "def np_cos(x):\n",
        "  return np.cos(np.deg2rad(x))\n",
        "def np_sin(x):\n",
        "  return np.sin(np.deg2rad(x))\n",
        "\n",
        "def rotation_x(deg_x):\n",
        "  return np.array([[1,0,0],\n",
        "                   [0,np_cos(deg_x),-np_sin(deg_x)],\n",
        "                   [0,np_sin(deg_x),np_cos(deg_x)]])\n",
        "def rotation_y(deg_y):\n",
        "  return np.array([[np_cos(deg_y),0,np_sin(deg_y)],\n",
        "                   [0,1,0],\n",
        "                   [-np_sin(deg_y),0,np_cos(deg_y)]])\n",
        "def rotation_z(deg_z):\n",
        "  return np.array([[np_cos(deg_z),-np_sin(deg_z),0],\n",
        "                   [np_sin(deg_z),np_cos(deg_z),0],\n",
        "                   [0,0,1]])\n",
        "def rotation_matrix(deg_x,deg_y,deg_z):\n",
        "  return rotation_x(deg_x)@rotation_y(deg_y)@rotation_z(deg_z)\n",
        "def cam_matrix():\n",
        "  focal_length=640\n",
        "  c_x=640/2\n",
        "  c_y=480/2\n",
        "  return np.array([[focal_length,0,c_x],\n",
        "          [0,focal_length,c_y],\n",
        "          [0,0,1]])\n",
        "def projection_mat(deg_x,deg_y,deg_z,t_x,t_y,t_z):\n",
        "  rotation_mat=rotation_matrix(deg_x,deg_y,deg_z)\n",
        "  rotation_mat*=t_z\n",
        "  translation_mat=np.array([[t_x],\n",
        "                   [t_y],\n",
        "                   [0]])\n",
        "#   return cam_matrix()@np.hstack((rotation_mat,translation_mat))\n",
        "  return np.hstack((rotation_mat,translation_mat))\n",
        "\n",
        "\n",
        "def translate(x,y,z,coords):\n",
        "\n",
        "  coords=np.transpose(coords)\n",
        "\n",
        "  new_coords=np.copy(coords)\n",
        "  new_coords=new_coords.astype('float64')\n",
        "\n",
        "  new_coords[:,0]+=x\n",
        "  new_coords[:,1]+=y\n",
        "  new_coords[:,2]+=z\n",
        "\n",
        "  return new_coords\n",
        "\n",
        "def get_random_matrix():\n",
        "  deg_x=random.randint(-80,80)\n",
        "  deg_y=random.randint(-80,80)\n",
        "  deg_z=random.randint(-160,160)\n",
        "  t_x=random.randint(-300,300)\n",
        "  t_y=random.randint(-220,220)\n",
        "  t_z=random.uniform(0.4,1.6)\n",
        "  return deg_x,deg_y,deg_z,t_x,t_y,t_z,projection_mat(deg_x,deg_y,deg_z,t_x,t_y,t_z)\n",
        "\n",
        "\n",
        "def graphics(coords):\n",
        "  new_coords=np.copy(coords)\n",
        "\n",
        "  new_coords=new_coords.astype('int64')\n",
        "  image=np.zeros((480,640,3),dtype='float64')\n",
        "\n",
        "  cv2.circle(image,new_coords[0,:2],2,color=(0,225,255),thickness=-1)\n",
        "  cv2.circle(image,new_coords[1,:2],2,color=(0,225,255),thickness=-1)\n",
        "  cv2.circle(image,new_coords[2,:2],2,color=(0,225,255),thickness=-1)\n",
        "  cv2.circle(image,new_coords[3,:2],2,color=(0,225,255),thickness=-1)\n",
        "  cv2.circle(image,new_coords[4,:2],2,color=(0,225,255),thickness=-1)\n",
        "  cv2.circle(image,new_coords[5,:2],2,color=(0,225,255),thickness=-1)\n",
        "  return image"
      ],
      "metadata": {
        "id": "8W1Ezmw2mniI"
      },
      "execution_count": null,
      "outputs": []
    },
    {
      "cell_type": "code",
      "source": [
        "cube_coords=np.array([[ 0.0, 0.0, 0.0,1],\n",
        "                    [ 0.0, 66.0, 13.0,1],\n",
        "                    [45.0, -34.0, 27.0,1],\n",
        "                    [ -45.0, -34.0, 27.0,1],\n",
        "                    [30.0, 30.0, 25.0,1],\n",
        "                    [-30.0, 30.0, 25.0,1]])\n",
        "cube_coords=cube_coords.astype('float64')"
      ],
      "metadata": {
        "id": "8KM_R2kdrqHh"
      },
      "execution_count": null,
      "outputs": []
    },
    {
      "cell_type": "code",
      "source": [
        "deg_x,deg_y,deg_z,t_x,t_y,t_z,pro_mat=get_random_matrix()\n",
        "transpose_pro_mat=np.transpose(pro_mat)\n",
        "cube_coords=cube_coords@transpose_pro_mat\n",
        "cube_coords=np.transpose(cube_coords)\n",
        "img=graphics(translate(320,240,0,cube_coords))"
      ],
      "metadata": {
        "id": "LJ9Gp4YIwgwL"
      },
      "execution_count": null,
      "outputs": []
    },
    {
      "cell_type": "code",
      "source": [
        "cube_coords"
      ],
      "metadata": {
        "colab": {
          "base_uri": "https://localhost:8080/"
        },
        "id": "eFyxZfVb-4rR",
        "outputId": "7f899e37-24cd-4ece-f73c-6e48b6484264"
      },
      "execution_count": null,
      "outputs": [
        {
          "output_type": "execute_result",
          "data": {
            "text/plain": [
              "array([[-24.        ,  -3.42357713,  11.78053612, -73.92673922,\n",
              "         15.92015024, -41.21803333],\n",
              "       [187.        , 248.06257067, 138.45465351, 163.29221995,\n",
              "        203.83070219, 220.38907981],\n",
              "       [  0.        ,  19.61510066,  16.83094085,  29.41835952,\n",
              "         23.54615706,  31.9377695 ]])"
            ]
          },
          "metadata": {},
          "execution_count": 11
        }
      ]
    },
    {
      "cell_type": "code",
      "source": [
        "plt.imshow(img)"
      ],
      "metadata": {
        "colab": {
          "base_uri": "https://localhost:8080/",
          "height": 470
        },
        "id": "-xV80IYCrXVf",
        "outputId": "2324d316-fe17-43e8-a328-544dc2366a8a"
      },
      "execution_count": null,
      "outputs": [
        {
          "output_type": "stream",
          "name": "stderr",
          "text": [
            "WARNING:matplotlib.image:Clipping input data to the valid range for imshow with RGB data ([0..1] for floats or [0..255] for integers).\n"
          ]
        },
        {
          "output_type": "execute_result",
          "data": {
            "text/plain": [
              "<matplotlib.image.AxesImage at 0x7afae27a1540>"
            ]
          },
          "metadata": {},
          "execution_count": 12
        },
        {
          "output_type": "display_data",
          "data": {
            "text/plain": [
              "<Figure size 640x480 with 1 Axes>"
            ],
            "image/png": "[encoded data removed]"
          },
          "metadata": {}
        }
      ]
    },
    {
      "cell_type": "code",
      "source": [
        "## data generator\n",
        "def data_generator(batch_size):\n",
        "  while True:\n",
        "    x=[]\n",
        "    y=[]\n",
        "    for i in range(batch_size):\n",
        "      cube_coords=np.array([[ 0.0, 0.0, 0.0,1],\n",
        "                    [ 0.0, 66.0, 13.0,1],\n",
        "                    [45.0, -34.0, 27.0,1],\n",
        "                    [ -45.0, -34.0, 27.0,1],\n",
        "                    [30.0, 30.0, 25.0,1],\n",
        "                    [-30.0, 30.0, 25.0,1]])\n",
        "      cube_coords=cube_coords.astype('float64')\n",
        "      deg_x,deg_y,deg_z,t_x,t_y,t_z,pro_mat=get_random_matrix()\n",
        "      transpose_pro_mat=np.transpose(pro_mat)\n",
        "      cube_coords=cube_coords@transpose_pro_mat\n",
        "      cube_coords=cube_coords[:,:2]\n",
        "      cube_coords=cube_coords.flatten()\n",
        "      y.append([deg_x,deg_y,deg_z,t_x,t_y,t_z])\n",
        "      x.append(cube_coords)\n",
        "    yield np.array(x),np.array(y)\n",
        "\n",
        "\n",
        "\n",
        "\n"
      ],
      "metadata": {
        "id": "Le21bFHWvcDx"
      },
      "execution_count": 14,
      "outputs": []
    },
    {
      "cell_type": "code",
      "source": [
        "val_lab_gen=data_generator(32)"
      ],
      "metadata": {
        "id": "EpNVipiUD8g3"
      },
      "execution_count": 15,
      "outputs": []
    },
    {
      "cell_type": "code",
      "source": [
        "a=next(val_lab_gen)"
      ],
      "metadata": {
        "id": "dURkBVzqEDUl"
      },
      "execution_count": 16,
      "outputs": []
    },
    {
      "cell_type": "code",
      "source": [
        "a,b=a"
      ],
      "metadata": {
        "id": "5gknsI9-ENXm"
      },
      "execution_count": 17,
      "outputs": []
    },
    {
      "cell_type": "code",
      "source": [
        "a.shape"
      ],
      "metadata": {
        "colab": {
          "base_uri": "https://localhost:8080/"
        },
        "id": "fBC4uhYOFBxJ",
        "outputId": "42841b33-ccaa-40bb-a6bb-c4cd152b637d"
      },
      "execution_count": 18,
      "outputs": [
        {
          "output_type": "execute_result",
          "data": {
            "text/plain": [
              "(32, 12)"
            ]
          },
          "metadata": {},
          "execution_count": 18
        }
      ]
    },
    {
      "cell_type": "code",
      "source": [
        "b.shape"
      ],
      "metadata": {
        "colab": {
          "base_uri": "https://localhost:8080/"
        },
        "id": "nR_WpRc0FEQc",
        "outputId": "db7eb2e8-25f5-4c4f-dbe0-aca75f77c1ea"
      },
      "execution_count": 19,
      "outputs": [
        {
          "output_type": "execute_result",
          "data": {
            "text/plain": [
              "(32, 6)"
            ]
          },
          "metadata": {},
          "execution_count": 19
        }
      ]
    },
    {
      "cell_type": "code",
      "source": [
        "def create_ann_model():\n",
        "    model = Sequential([\n",
        "        Dense(64, activation='relu', input_shape=(12,)),\n",
        "        Flatten(),  # Flatten layer to convert (32, 12) to (32*12,)\n",
        "        Dense(64, activation='relu'),\n",
        "        Dense(64, activation='relu'),\n",
        "        Dense(6)  # Output layer with no activation function for linear outputs\n",
        "    ])\n",
        "    return model\n",
        "\n",
        "# Create an instance of the model\n",
        "model = create_ann_model()\n",
        "\n",
        "# Compile the model\n",
        "model.compile(optimizer='adam',\n",
        "              loss='mean_squared_error',  # Use mean squared error for regression\n",
        "              metrics=['mean_absolute_error'])  # Use mean absolute error as a metric\n",
        "\n",
        "# Display the model architecture\n",
        "model.summary()"
      ],
      "metadata": {
        "colab": {
          "base_uri": "https://localhost:8080/"
        },
        "id": "ApNBBqghFJce",
        "outputId": "782b67da-ce44-423e-80d5-bd5f25550391"
      },
      "execution_count": 20,
      "outputs": [
        {
          "output_type": "stream",
          "name": "stdout",
          "text": [
            "Model: \"sequential\"\n",
            "_________________________________________________________________\n",
            " Layer (type)                Output Shape              Param #   \n",
            "=================================================================\n",
            " dense (Dense)               (None, 64)                832       \n",
            "                                                                 \n",
            " flatten (Flatten)           (None, 64)                0         \n",
            "                                                                 \n",
            " dense_1 (Dense)             (None, 64)                4160      \n",
            "                                                                 \n",
            " dense_2 (Dense)             (None, 64)                4160      \n",
            "                                                                 \n",
            " dense_3 (Dense)             (None, 6)                 390       \n",
            "                                                                 \n",
            "=================================================================\n",
            "Total params: 9542 (37.27 KB)\n",
            "Trainable params: 9542 (37.27 KB)\n",
            "Non-trainable params: 0 (0.00 Byte)\n",
            "_________________________________________________________________\n"
          ]
        }
      ]
    },
    {
      "cell_type": "code",
      "source": [
        "history=model.fit(val_lab_gen,epochs=20,steps_per_epoch=3200)"
      ],
      "metadata": {
        "colab": {
          "base_uri": "https://localhost:8080/"
        },
        "id": "4BMgNcZ2HBc4",
        "outputId": "58522f64-bd16-4538-86c3-24366651b097"
      },
      "execution_count": 22,
      "outputs": [
        {
          "output_type": "stream",
          "name": "stdout",
          "text": [
            "Epoch 1/20\n",
            "3200/3200 [==============================] - 29s 9ms/step - loss: 237.9577 - mean_absolute_error: 9.3094\n",
            "Epoch 2/20\n",
            "3200/3200 [==============================] - 24s 8ms/step - loss: 120.6295 - mean_absolute_error: 6.7442\n",
            "Epoch 3/20\n",
            "3200/3200 [==============================] - 24s 8ms/step - loss: 54.6252 - mean_absolute_error: 4.6661\n",
            "Epoch 4/20\n",
            "3200/3200 [==============================] - 24s 8ms/step - loss: 35.1728 - mean_absolute_error: 3.7051\n",
            "Epoch 5/20\n",
            "3200/3200 [==============================] - 24s 7ms/step - loss: 29.1802 - mean_absolute_error: 3.2871\n",
            "Epoch 6/20\n",
            "3200/3200 [==============================] - 23s 7ms/step - loss: 25.9625 - mean_absolute_error: 2.9824\n",
            "Epoch 7/20\n",
            "3200/3200 [==============================] - 23s 7ms/step - loss: 20.7460 - mean_absolute_error: 2.6312\n",
            "Epoch 8/20\n",
            "3200/3200 [==============================] - 25s 8ms/step - loss: 22.4383 - mean_absolute_error: 2.6604\n",
            "Epoch 9/20\n",
            "3200/3200 [==============================] - 25s 8ms/step - loss: 16.4135 - mean_absolute_error: 2.3323\n",
            "Epoch 10/20\n",
            "3200/3200 [==============================] - 24s 7ms/step - loss: 14.1801 - mean_absolute_error: 2.2051\n",
            "Epoch 11/20\n",
            "3200/3200 [==============================] - 24s 7ms/step - loss: 11.2159 - mean_absolute_error: 1.9715\n",
            "Epoch 12/20\n",
            "3200/3200 [==============================] - 23s 7ms/step - loss: 15.3623 - mean_absolute_error: 2.0512\n",
            "Epoch 13/20\n",
            "3200/3200 [==============================] - 24s 8ms/step - loss: 16.3344 - mean_absolute_error: 2.0884\n",
            "Epoch 14/20\n",
            "3200/3200 [==============================] - 24s 7ms/step - loss: 15.7279 - mean_absolute_error: 2.0357\n",
            "Epoch 15/20\n",
            "3200/3200 [==============================] - 24s 7ms/step - loss: 11.3489 - mean_absolute_error: 1.8314\n",
            "Epoch 16/20\n",
            "3200/3200 [==============================] - 24s 7ms/step - loss: 14.9345 - mean_absolute_error: 1.9685\n",
            "Epoch 17/20\n",
            "3200/3200 [==============================] - 24s 7ms/step - loss: 18.2053 - mean_absolute_error: 2.1224\n",
            "Epoch 18/20\n",
            "3200/3200 [==============================] - 24s 7ms/step - loss: 6.6535 - mean_absolute_error: 1.5869\n",
            "Epoch 19/20\n",
            "3200/3200 [==============================] - 24s 7ms/step - loss: 12.6020 - mean_absolute_error: 1.8687\n",
            "Epoch 20/20\n",
            "3200/3200 [==============================] - 24s 7ms/step - loss: 9.3271 - mean_absolute_error: 1.6750\n"
          ]
        }
      ]
    },
    {
      "cell_type": "code",
      "source": [
        "x,y=next(val_lab_gen)"
      ],
      "metadata": {
        "id": "ksLiggNtHRF7"
      },
      "execution_count": null,
      "outputs": []
    },
    {
      "cell_type": "code",
      "source": [
        "y_predicted=model.predict(x)"
      ],
      "metadata": {
        "colab": {
          "base_uri": "https://localhost:8080/"
        },
        "id": "8mu27bfyHVy6",
        "outputId": "8656f718-064a-4a23-ef9a-7f59220483ab"
      },
      "execution_count": null,
      "outputs": [
        {
          "output_type": "stream",
          "name": "stdout",
          "text": [
            "1/1 [==============================] - 0s 21ms/step\n"
          ]
        }
      ]
    },
    {
      "cell_type": "code",
      "source": [
        "listt=np.abs(y_predicted-y)"
      ],
      "metadata": {
        "id": "rmajWgqKKnUp"
      },
      "execution_count": null,
      "outputs": []
    },
    {
      "cell_type": "code",
      "source": [
        "np.mean(listt[:,0]),listt[:,0]"
      ],
      "metadata": {
        "colab": {
          "base_uri": "https://localhost:8080/"
        },
        "id": "Lwk6Jbs1KqMd",
        "outputId": "5e6adc4d-22d1-41d4-984b-eaba3dc47815"
      },
      "execution_count": null,
      "outputs": [
        {
          "output_type": "execute_result",
          "data": {
            "text/plain": [
              "(2.7913509160280228,\n",
              " array([2.73164082, 1.66351891, 2.43959045, 4.04168701, 1.98603535,\n",
              "        4.7429657 , 1.39702606, 2.02714157, 1.53804398, 1.47687149,\n",
              "        0.56522942, 2.92499542, 4.32622528, 1.55716133, 1.6428566 ,\n",
              "        8.05321884, 6.56135559, 5.3061409 , 3.40299988, 1.48587227,\n",
              "        2.27985096, 3.78098106, 6.31489754, 5.41880608, 1.31545258,\n",
              "        0.07204676, 2.38075638, 0.66907501, 0.38843155, 2.16583824,\n",
              "        3.00636768, 1.66014862]))"
            ]
          },
          "metadata": {},
          "execution_count": 123
        }
      ]
    },
    {
      "cell_type": "code",
      "source": [
        "np.mean(listt[:,1]),listt[:,1]\n"
      ],
      "metadata": {
        "colab": {
          "base_uri": "https://localhost:8080/"
        },
        "id": "Te5PYv3RLIUB",
        "outputId": "101f3004-ed83-4141-9dab-1c5797164724"
      },
      "execution_count": null,
      "outputs": [
        {
          "output_type": "execute_result",
          "data": {
            "text/plain": [
              "(1.101214163005352,\n",
              " array([1.89839172e+00, 1.53827667e-01, 2.70661354e+00, 1.17111206e-03,\n",
              "        1.06461716e+00, 5.16723633e-01, 1.14611435e+00, 2.28324890e-01,\n",
              "        1.52335739e+00, 3.12953949e-01, 9.24823761e-01, 1.84842110e+00,\n",
              "        5.11805534e-01, 2.02147293e+00, 1.43539810e+00, 8.01918030e-01,\n",
              "        1.53133392e-01, 3.59764099e-01, 1.99478149e-01, 6.04047775e-01,\n",
              "        1.27143860e+00, 1.71551895e+00, 4.05128479e-01, 1.00791359e+00,\n",
              "        6.44149780e-01, 2.80334163e+00, 1.04330635e+00, 3.13148499e-02,\n",
              "        3.09457779e+00, 1.99752426e+00, 8.16665649e-01, 1.99561501e+00]))"
            ]
          },
          "metadata": {},
          "execution_count": 124
        }
      ]
    },
    {
      "cell_type": "code",
      "source": [
        "np.mean(listt[:,2]),listt[:,2]\n"
      ],
      "metadata": {
        "colab": {
          "base_uri": "https://localhost:8080/"
        },
        "id": "M_SV04B0LfAI",
        "outputId": "d48a347d-3f0f-4fe9-beef-3672e587f52c"
      },
      "execution_count": null,
      "outputs": [
        {
          "output_type": "execute_result",
          "data": {
            "text/plain": [
              "(2.4306670427322388,\n",
              " array([1.4546051 , 1.72509003, 4.43297577, 6.13777161, 3.84069061,\n",
              "        0.99199677, 1.61296082, 5.33675766, 0.33496094, 1.62473679,\n",
              "        0.6534996 , 0.1384697 , 2.05738068, 3.87533569, 1.45439911,\n",
              "        6.89699554, 2.84082031, 0.79644012, 1.75235748, 2.23439789,\n",
              "        2.2492981 , 4.92423248, 3.76928711, 2.49482727, 2.3448019 ,\n",
              "        1.77637482, 2.10480976, 1.66984558, 0.26840973, 4.00634766,\n",
              "        0.69815063, 1.28231812]))"
            ]
          },
          "metadata": {},
          "execution_count": 125
        }
      ]
    },
    {
      "cell_type": "code",
      "source": [
        "np.mean(listt[:,3]),listt[:,3]"
      ],
      "metadata": {
        "colab": {
          "base_uri": "https://localhost:8080/"
        },
        "id": "5URqLRxtLhfr",
        "outputId": "eb6de4cd-65cf-4caa-e697-3d045b9b9590"
      },
      "execution_count": null,
      "outputs": [
        {
          "output_type": "execute_result",
          "data": {
            "text/plain": [
              "(1.1773544549942017,\n",
              " array([1.11267853, 0.89058685, 0.32997131, 1.94300842, 2.1928978 ,\n",
              "        0.43701935, 0.9367218 , 0.9470253 , 0.41140366, 1.00485229,\n",
              "        1.96874237, 1.07038116, 0.29748535, 1.52749634, 1.14325714,\n",
              "        2.21522522, 0.79441833, 0.17903137, 2.55914307, 1.18600845,\n",
              "        0.80892944, 0.21858215, 1.22311401, 1.69042969, 2.32471848,\n",
              "        1.55978394, 1.10670471, 1.91208649, 0.68691254, 0.65019226,\n",
              "        1.2481842 , 1.09835052]))"
            ]
          },
          "metadata": {},
          "execution_count": 126
        }
      ]
    },
    {
      "cell_type": "code",
      "source": [
        "np.mean(listt[:,4]),listt[:,4]"
      ],
      "metadata": {
        "colab": {
          "base_uri": "https://localhost:8080/"
        },
        "id": "7stuoEtYLlUN",
        "outputId": "f004cf74-539b-481d-b24e-8a2c44259b93"
      },
      "execution_count": null,
      "outputs": [
        {
          "output_type": "execute_result",
          "data": {
            "text/plain": [
              "(1.1398900747299194,\n",
              " array([0.13008451, 2.07633972, 0.33516693, 1.27973938, 0.96248627,\n",
              "        0.43846893, 0.30207062, 0.22361755, 1.33883667, 0.09589386,\n",
              "        0.53052187, 0.91952515, 0.4683609 , 1.80249977, 1.5740509 ,\n",
              "        0.42340088, 0.08381653, 0.42394257, 1.74922752, 1.48391724,\n",
              "        1.49224091, 2.69288635, 1.04100037, 1.90013885, 0.69664001,\n",
              "        2.17430115, 1.59513092, 2.15262604, 1.56413269, 0.58561707,\n",
              "        2.54000473, 1.39979553]))"
            ]
          },
          "metadata": {},
          "execution_count": 127
        }
      ]
    },
    {
      "cell_type": "code",
      "source": [
        "np.mean(listt[:,5]),listt[:,5]"
      ],
      "metadata": {
        "colab": {
          "base_uri": "https://localhost:8080/"
        },
        "id": "2m9Cf4bwLpSq",
        "outputId": "47afc05b-a606-4d24-9f64-5bbea45ee630"
      },
      "execution_count": null,
      "outputs": [
        {
          "output_type": "execute_result",
          "data": {
            "text/plain": [
              "(0.1308382122767854,\n",
              " array([0.11396616, 0.18231743, 0.16763667, 0.11101847, 0.14749557,\n",
              "        0.07791508, 0.10164299, 0.14939756, 0.07430252, 0.18468069,\n",
              "        0.05119082, 0.17603973, 0.10255063, 0.07936773, 0.0747798 ,\n",
              "        0.0853461 , 0.34243064, 0.03130358, 0.15309265, 0.18767946,\n",
              "        0.05410154, 0.029204  , 0.29897364, 0.24012389, 0.03732682,\n",
              "        0.18024003, 0.14478868, 0.18985502, 0.13619259, 0.04839991,\n",
              "        0.13760313, 0.09585924]))"
            ]
          },
          "metadata": {},
          "execution_count": 128
        }
      ]
    },
    {
      "cell_type": "code",
      "source": [
        "x[2]"
      ],
      "metadata": {
        "colab": {
          "base_uri": "https://localhost:8080/"
        },
        "id": "I51QP_dvLsi9",
        "outputId": "6483e558-a2d8-47b7-d481-6805ac993996"
      },
      "execution_count": null,
      "outputs": [
        {
          "output_type": "execute_result",
          "data": {
            "text/plain": [
              "array([-106.        ,   53.        , -110.36973142,   20.53426064,\n",
              "       -131.87471355,   69.45859809,  -98.27647849,   72.62079177,\n",
              "       -125.60274133,   37.93374492, -103.20391796,   40.04187404])"
            ]
          },
          "metadata": {},
          "execution_count": 105
        }
      ]
    },
    {
      "cell_type": "code",
      "source": [
        "y[2]"
      ],
      "metadata": {
        "colab": {
          "base_uri": "https://localhost:8080/"
        },
        "id": "ZgzxTP90PyWJ",
        "outputId": "6860a6cb-d64e-47e5-a8e0-35453a438854"
      },
      "execution_count": null,
      "outputs": [
        {
          "output_type": "execute_result",
          "data": {
            "text/plain": [
              "array([  -6.        ,  -42.        ,  180.        , -106.        ,\n",
              "         53.        ,    0.50234316])"
            ]
          },
          "metadata": {},
          "execution_count": 106
        }
      ]
    },
    {
      "cell_type": "code",
      "source": [
        "model_json=model.to_json()"
      ],
      "metadata": {
        "id": "vxhdCM-0P2oT"
      },
      "execution_count": null,
      "outputs": []
    },
    {
      "cell_type": "code",
      "source": [
        "with open(\"head_pose_model_json\",\"w\") as filee:\n",
        "  filee.write(model_json)"
      ],
      "metadata": {
        "id": "TwxvPngJVsz0"
      },
      "execution_count": null,
      "outputs": []
    },
    {
      "cell_type": "code",
      "source": [
        "model.save_weights(\"head_pose_model_weights.h5\")"
      ],
      "metadata": {
        "id": "BySf0wVHV8UJ"
      },
      "execution_count": null,
      "outputs": []
    },
    {
      "cell_type": "code",
      "source": [],
      "metadata": {
        "id": "KJ0xCeGcWGeZ"
      },
      "execution_count": null,
      "outputs": []
    }
  ]
}